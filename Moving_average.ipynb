{
 "cells": [
  {
   "cell_type": "code",
   "execution_count": null,
   "id": "f3f2e56e-cafe-4011-bb2f-8ac345b2e97a",
   "metadata": {},
   "outputs": [],
   "source": []
  },
  {
   "cell_type": "code",
   "execution_count": null,
   "id": "40d5a026-9625-44e2-9985-ab90eca7a520",
   "metadata": {},
   "outputs": [],
   "source": [
    " Moving Average Model (MA(q))\n",
    "\n",
    "A time series model where the current value depends on past error terms.\n",
    "\n",
    "Formula:  Xt =μ+ϵt+θ1*ϵt−1+θ2*ϵt−2+⋯+θq*ϵt−q.\n"
   ]
  },
  {
   "cell_type": "code",
   "execution_count": 2,
   "id": "cdb0a7ea-63ba-4b2e-994c-d4770837ceea",
   "metadata": {},
   "outputs": [],
   "source": [
    "def calculate_moving_average(data, k):\n",
    "    moving_averages = []\n",
    "    for i in range(len(data) - k + 1):\n",
    "        window = data[i : i + k]\n",
    "        window_average = sum(window) / k\n",
    "        moving_averages.append(window_average)\n",
    "    return moving_averages"
   ]
  },
  {
   "cell_type": "code",
   "execution_count": 3,
   "id": "284e9cc1-e1ee-4c59-aa8e-e627fbbbbd22",
   "metadata": {},
   "outputs": [],
   "source": [
    "funnel_cake_in_kg = [2, 3, 2.5, 4, 3.5, 5, 4.5, 5.5, 5, 6]\n",
    "# Here i am calculating  a 4-day moving average.\n",
    "window = 1\n",
    "results = calculate_moving_average(funnel_cake_in_kg, window)"
   ]
  },
  {
   "cell_type": "code",
   "execution_count": 4,
   "id": "2bb66e55-63ab-43e3-97d0-e141c1f7d8a3",
   "metadata": {},
   "outputs": [
    {
     "name": "stdout",
     "output_type": "stream",
     "text": [
      "Daily Funnel Cake Received (kg): [2, 3, 2.5, 4, 3.5, 5, 4.5, 5.5, 5, 6]\n",
      "\n",
      "1-Day Moving Average of Funnel Cake:\n",
      "  - Average for days ending on Day 1: 2.00 kg\n",
      "  - Average for days ending on Day 2: 3.00 kg\n",
      "  - Average for days ending on Day 3: 2.50 kg\n",
      "  - Average for days ending on Day 4: 4.00 kg\n",
      "  - Average for days ending on Day 5: 3.50 kg\n",
      "  - Average for days ending on Day 6: 5.00 kg\n",
      "  - Average for days ending on Day 7: 4.50 kg\n",
      "  - Average for days ending on Day 8: 5.50 kg\n",
      "  - Average for days ending on Day 9: 5.00 kg\n",
      "  - Average for days ending on Day 10: 6.00 kg\n"
     ]
    }
   ],
   "source": [
    "print(f\"Daily Funnel Cake Received (kg): {funnel_cake_in_kg}\")\n",
    "print(f\"\\n{window}-Day Moving Average of Funnel Cake:\")\n",
    "\n",
    "for i, avg in enumerate(results):\n",
    "    print(f\"  - Average for days ending on Day {i + window}: {avg:.2f} kg\")"
   ]
  },
  {
   "cell_type": "code",
   "execution_count": null,
   "id": "c5d46438-ec07-46f2-b398-ccef5e238ba5",
   "metadata": {},
   "outputs": [],
   "source": []
  },
  {
   "cell_type": "code",
   "execution_count": null,
   "id": "10e730b4-788b-482b-8e23-a95c348da411",
   "metadata": {},
   "outputs": [],
   "source": []
  },
  {
   "cell_type": "code",
   "execution_count": null,
   "id": "ced179fd-9b29-4486-a6eb-ce987a774820",
   "metadata": {},
   "outputs": [],
   "source": []
  },
  {
   "cell_type": "code",
   "execution_count": null,
   "id": "b90a3f8d-62fc-4091-a953-bb0c35aac2d2",
   "metadata": {},
   "outputs": [],
   "source": []
  },
  {
   "cell_type": "code",
   "execution_count": null,
   "id": "12dd488e-8fab-4f3f-b913-de93ce3cde03",
   "metadata": {},
   "outputs": [],
   "source": []
  },
  {
   "cell_type": "code",
   "execution_count": null,
   "id": "f8f873dd-87a0-43ab-bcbf-9e7ab517855f",
   "metadata": {},
   "outputs": [],
   "source": []
  },
  {
   "cell_type": "code",
   "execution_count": null,
   "id": "94a595c3-e466-43f4-b87d-5a2385ce5e40",
   "metadata": {},
   "outputs": [],
   "source": []
  },
  {
   "cell_type": "code",
   "execution_count": null,
   "id": "713c1d34-aafd-407c-8044-0a5eb88c1721",
   "metadata": {},
   "outputs": [],
   "source": []
  }
 ],
 "metadata": {
  "kernelspec": {
   "display_name": "Python 3 (ipykernel)",
   "language": "python",
   "name": "python3"
  },
  "language_info": {
   "codemirror_mode": {
    "name": "ipython",
    "version": 3
   },
   "file_extension": ".py",
   "mimetype": "text/x-python",
   "name": "python",
   "nbconvert_exporter": "python",
   "pygments_lexer": "ipython3",
   "version": "3.13.5"
  }
 },
 "nbformat": 4,
 "nbformat_minor": 5
}
